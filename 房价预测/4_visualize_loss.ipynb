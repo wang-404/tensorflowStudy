{
 "cells": [
  {
   "cell_type": "code",
   "execution_count": 1,
   "id": "cb680c1d",
   "metadata": {},
   "outputs": [
    {
     "data": {
      "text/html": [
       "<div>\n",
       "<style scoped>\n",
       "    .dataframe tbody tr th:only-of-type {\n",
       "        vertical-align: middle;\n",
       "    }\n",
       "\n",
       "    .dataframe tbody tr th {\n",
       "        vertical-align: top;\n",
       "    }\n",
       "\n",
       "    .dataframe thead th {\n",
       "        text-align: right;\n",
       "    }\n",
       "</style>\n",
       "<table border=\"1\" class=\"dataframe\">\n",
       "  <thead>\n",
       "    <tr style=\"text-align: right;\">\n",
       "      <th></th>\n",
       "      <th>ones</th>\n",
       "      <th>square</th>\n",
       "      <th>bedrooms</th>\n",
       "      <th>price</th>\n",
       "    </tr>\n",
       "  </thead>\n",
       "  <tbody>\n",
       "    <tr>\n",
       "      <th>0</th>\n",
       "      <td>1.0</td>\n",
       "      <td>0.130010</td>\n",
       "      <td>-0.223675</td>\n",
       "      <td>0.475747</td>\n",
       "    </tr>\n",
       "    <tr>\n",
       "      <th>1</th>\n",
       "      <td>1.0</td>\n",
       "      <td>-0.504190</td>\n",
       "      <td>-0.223675</td>\n",
       "      <td>-0.084074</td>\n",
       "    </tr>\n",
       "    <tr>\n",
       "      <th>2</th>\n",
       "      <td>1.0</td>\n",
       "      <td>0.502476</td>\n",
       "      <td>-0.223675</td>\n",
       "      <td>0.228626</td>\n",
       "    </tr>\n",
       "    <tr>\n",
       "      <th>3</th>\n",
       "      <td>1.0</td>\n",
       "      <td>-0.735723</td>\n",
       "      <td>-1.537767</td>\n",
       "      <td>-0.867025</td>\n",
       "    </tr>\n",
       "    <tr>\n",
       "      <th>4</th>\n",
       "      <td>1.0</td>\n",
       "      <td>1.257476</td>\n",
       "      <td>1.090417</td>\n",
       "      <td>1.595389</td>\n",
       "    </tr>\n",
       "  </tbody>\n",
       "</table>\n",
       "</div>"
      ],
      "text/plain": [
       "   ones    square  bedrooms     price\n",
       "0   1.0  0.130010 -0.223675  0.475747\n",
       "1   1.0 -0.504190 -0.223675 -0.084074\n",
       "2   1.0  0.502476 -0.223675  0.228626\n",
       "3   1.0 -0.735723 -1.537767 -0.867025\n",
       "4   1.0  1.257476  1.090417  1.595389"
      ]
     },
     "execution_count": 1,
     "metadata": {},
     "output_type": "execute_result"
    }
   ],
   "source": [
    "import pandas as pd\n",
    "import numpy as np\n",
    "\n",
    "def normalize_feature(df):\n",
    "    return df.apply(lambda column:(column-column.mean())/column.std())\n",
    "\n",
    "df = normalize_feature(pd.read_csv('data.csv',names=['square','bedrooms','price']))\n",
    "\n",
    "ones = pd.DataFrame({'ones':np.ones(len(df))}) #ones是n行1列的数据框，表示x0恒威1\n",
    "df = pd.concat([ones,df],axis=1) #根据列合并数据\n",
    "df.head()"
   ]
  },
  {
   "cell_type": "markdown",
   "id": "87b4e9c4",
   "metadata": {},
   "source": [
    "# 数据处理：获取X和y"
   ]
  },
  {
   "cell_type": "code",
   "execution_count": 2,
   "id": "9f8ac965",
   "metadata": {},
   "outputs": [
    {
     "name": "stdout",
     "output_type": "stream",
     "text": [
      "(47, 3) <class 'numpy.ndarray'>\n",
      "(47, 1) <class 'numpy.ndarray'>\n"
     ]
    }
   ],
   "source": [
    "X_data = np.array(df[df.columns[0:3]])\n",
    "y_data = np.array(df[df.columns[-1]]).reshape(len(df),1)\n",
    "\n",
    "print(X_data.shape,type(X_data))\n",
    "print(y_data.shape,type(y_data))"
   ]
  },
  {
   "cell_type": "markdown",
   "id": "c72f9be1",
   "metadata": {},
   "source": [
    "# 创建线性回归模型（数据流图）"
   ]
  },
  {
   "cell_type": "code",
   "execution_count": 3,
   "id": "855d969b",
   "metadata": {},
   "outputs": [],
   "source": [
    "import tensorflow as tf\n",
    "\n",
    "alpha = 0.01 # 学习率alpha\n",
    "epoch = 500 # 训练全量数据集的轮数\n",
    "\n",
    "# 输入X，形状（47，3）\n",
    "X = tf.placeholder(tf.float32,X_data.shape)\n",
    "# 输出y，形状（47，1）\n",
    "y = tf.placeholder(tf.float32,y_data.shape)\n",
    "\n",
    "# 权重变量w，形状（3，1）\n",
    "W = tf.get_variable(\"weights\",(X_data.shape[1],1),initializer=tf.constant_initializer())\n",
    "# 假设函数h(x) = w0*x0 + w1*x1 + w2*x2 ,其中x0恒为1\n",
    "# 推理值 y_pred 形状（47，1）\n",
    "y_pred = tf.matmul(X,W)\n",
    "\n",
    "# 损失函数采用最小二乘法，y_pred-y是形如[47，1]的向量。\n",
    "# tf.matmul(a,b,transpose_a=True)表示∶矩阵a的转置乘矩阵b，即[1,47] X[47,1]\n",
    "# 损失函数操作loss\n",
    "loss_op = 1/(2*len(X_data))*tf.matmul((y_pred-y),(y_pred-y),transpose_a=True)\n",
    "# 随机梯度下降优化器opt\n",
    "opt = tf.train.GradientDescentOptimizer(learning_rate = alpha)\n",
    "# 单论训练操作 train_op\n",
    "train_op = opt.minimize(loss_op)"
   ]
  },
  {
   "cell_type": "markdown",
   "id": "eefceb40",
   "metadata": {},
   "source": [
    "# 创建会话（运行环境）"
   ]
  },
  {
   "cell_type": "code",
   "execution_count": 5,
   "id": "1c5c231f",
   "metadata": {},
   "outputs": [
    {
     "name": "stdout",
     "output_type": "stream",
     "text": [
      "Epoch 10 \t Loss = 0.4184 \t Model:y = 0.0791x1 +  0.03948x2 +3.353e-10\n",
      "Epoch 20 \t Loss = 0.3582 \t Model:y = 0.1489x1 +  0.07135x2 +-5.588e-11\n",
      "Epoch 30 \t Loss = 0.3126 \t Model:y = 0.2107x1 +  0.09676x2 +3.912e-10\n",
      "Epoch 40 \t Loss = 0.2778 \t Model:y = 0.2655x1 +  0.1167x2 +-1.863e-11\n",
      "Epoch 50 \t Loss = 0.2512 \t Model:y = 0.3142x1 +  0.1321x2 +1.77e-10\n",
      "Epoch 60 \t Loss = 0.2306 \t Model:y = 0.3576x1 +  0.1436x2 +-4.47e-10\n",
      "Epoch 70 \t Loss = 0.2145 \t Model:y = 0.3965x1 +  0.1519x2 +-8.103e-10\n",
      "Epoch 80 \t Loss = 0.2018 \t Model:y = 0.4313x1 +  0.1574x2 +-6.985e-10\n",
      "Epoch 90 \t Loss = 0.1917 \t Model:y = 0.4626x1 +  0.1607x2 +-4.936e-10\n",
      "Epoch 100 \t Loss = 0.1835 \t Model:y = 0.4909x1 +  0.1621x2 +-6.147e-10\n",
      "Epoch 110 \t Loss = 0.1769 \t Model:y = 0.5165x1 +  0.162x2 +-7.87e-10\n",
      "Epoch 120 \t Loss = 0.1714 \t Model:y = 0.5397x1 +  0.1606x2 +-5.821e-10\n",
      "Epoch 130 \t Loss = 0.1668 \t Model:y = 0.5609x1 +  0.1581x2 +-9.08e-10\n",
      "Epoch 140 \t Loss = 0.1629 \t Model:y = 0.5802x1 +  0.1549x2 +-9.965e-10\n",
      "Epoch 150 \t Loss = 0.1596 \t Model:y = 0.5979x1 +  0.1509x2 +-9.756e-10\n",
      "Epoch 160 \t Loss = 0.1567 \t Model:y = 0.6142x1 +  0.1465x2 +-4.144e-10\n",
      "Epoch 170 \t Loss = 0.1542 \t Model:y = 0.6292x1 +  0.1416x2 +-1.001e-10\n",
      "Epoch 180 \t Loss = 0.152 \t Model:y = 0.643x1 +  0.1364x2 +-3.236e-10\n",
      "Epoch 190 \t Loss = 0.15 \t Model:y = 0.6559x1 +  0.131x2 +-6.286e-11\n",
      "Epoch 200 \t Loss = 0.1483 \t Model:y = 0.6678x1 +  0.1255x2 +2.119e-10\n",
      "Epoch 210 \t Loss = 0.1467 \t Model:y = 0.6789x1 +  0.1199x2 +-1.956e-10\n",
      "Epoch 220 \t Loss = 0.1453 \t Model:y = 0.6892x1 +  0.1142x2 +-1.758e-10\n",
      "Epoch 230 \t Loss = 0.144 \t Model:y = 0.6989x1 +  0.1085x2 +-4.307e-11\n",
      "Epoch 240 \t Loss = 0.1429 \t Model:y = 0.708x1 +  0.1029x2 +3.376e-10\n",
      "Epoch 250 \t Loss = 0.1419 \t Model:y = 0.7165x1 +  0.09736x2 +2.841e-10\n",
      "Epoch 260 \t Loss = 0.1409 \t Model:y = 0.7245x1 +  0.09189x2 +3.295e-10\n",
      "Epoch 270 \t Loss = 0.14 \t Model:y = 0.732x1 +  0.08653x2 +-8.033e-11\n",
      "Epoch 280 \t Loss = 0.1393 \t Model:y = 0.7391x1 +  0.08128x2 +1.141e-10\n",
      "Epoch 290 \t Loss = 0.1385 \t Model:y = 0.7458x1 +  0.07616x2 +1.321e-10\n",
      "Epoch 300 \t Loss = 0.1379 \t Model:y = 0.7522x1 +  0.07118x2 +5.087e-10\n",
      "Epoch 310 \t Loss = 0.1373 \t Model:y = 0.7582x1 +  0.06634x2 +7.398e-10\n",
      "Epoch 320 \t Loss = 0.1367 \t Model:y = 0.7639x1 +  0.06165x2 +6.845e-10\n",
      "Epoch 330 \t Loss = 0.1362 \t Model:y = 0.7693x1 +  0.0571x2 +8.423e-10\n",
      "Epoch 340 \t Loss = 0.1358 \t Model:y = 0.7744x1 +  0.0527x2 +9.252e-10\n",
      "Epoch 350 \t Loss = 0.1353 \t Model:y = 0.7793x1 +  0.04845x2 +1.104e-09\n",
      "Epoch 360 \t Loss = 0.135 \t Model:y = 0.784x1 +  0.04435x2 +1.145e-09\n",
      "Epoch 370 \t Loss = 0.1346 \t Model:y = 0.7884x1 +  0.0404x2 +1.631e-09\n",
      "Epoch 380 \t Loss = 0.1343 \t Model:y = 0.7926x1 +  0.03658x2 +1.446e-09\n",
      "Epoch 390 \t Loss = 0.134 \t Model:y = 0.7966x1 +  0.03291x2 +1.429e-09\n",
      "Epoch 400 \t Loss = 0.1337 \t Model:y = 0.8004x1 +  0.02938x2 +1.694e-09\n",
      "Epoch 410 \t Loss = 0.1335 \t Model:y = 0.8041x1 +  0.02598x2 +1.697e-09\n",
      "Epoch 420 \t Loss = 0.1332 \t Model:y = 0.8076x1 +  0.02271x2 +2.125e-09\n",
      "Epoch 430 \t Loss = 0.133 \t Model:y = 0.8109x1 +  0.01957x2 +2.292e-09\n",
      "Epoch 440 \t Loss = 0.1328 \t Model:y = 0.8141x1 +  0.01655x2 +2.913e-09\n",
      "Epoch 450 \t Loss = 0.1327 \t Model:y = 0.8171x1 +  0.01366x2 +3.412e-09\n",
      "Epoch 460 \t Loss = 0.1325 \t Model:y = 0.82x1 +  0.01087x2 +3.749e-09\n",
      "Epoch 470 \t Loss = 0.1323 \t Model:y = 0.8228x1 +  0.008204x2 +3.499e-09\n",
      "Epoch 480 \t Loss = 0.1322 \t Model:y = 0.8254x1 +  0.005641x2 +3.663e-09\n",
      "Epoch 490 \t Loss = 0.1321 \t Model:y = 0.828x1 +  0.003183x2 +4.2e-09\n",
      "Epoch 500 \t Loss = 0.132 \t Model:y = 0.8304x1 +  0.0008239x2 +4.138e-09\n"
     ]
    }
   ],
   "source": [
    "with tf.Session() as sess:\n",
    "    #初始化全局变量\n",
    "    sess.run(tf.global_variables_initializer())\n",
    "    # 创建FileWriter实例，并传入当前会话加载的数据流图\n",
    "    writer = tf.summary.FileWriter('./summary/linear-regression-2',sess.graph)\n",
    "    # 记录所有损失值\n",
    "    loss_data=[]\n",
    "    # 开始训练模型\n",
    "    # 因为训练集较小，所以采用批梯度下降优化算法，每次都使用全量数据训练\n",
    "    for e in range(1,epoch+1):\n",
    "        _,loss,w = sess.run([train_op,loss_op,W],feed_dict={X:X_data,y:y_data})\n",
    "        # 记录每一轮损失值变化情况\n",
    "        loss_data.append(float(loss))\n",
    "        if e % 10 ==0:\n",
    "            log_str = \"Epoch %d \\t Loss = %.4g \\t Model:y = %.4gx1 + % .4gx2 +%.4g\"\n",
    "            print(log_str % (e,loss,w[1],w[2],w[0]))"
   ]
  },
  {
   "cell_type": "markdown",
   "id": "203c96f6",
   "metadata": {},
   "source": [
    "# 可视化损失值"
   ]
  },
  {
   "cell_type": "code",
   "execution_count": 7,
   "id": "c3f423ff",
   "metadata": {},
   "outputs": [
    {
     "data": {
      "image/png": "[encoded data removed]",
      "text/plain": [
       "<Figure size 432x288 with 1 Axes>"
      ]
     },
     "metadata": {},
     "output_type": "display_data"
    }
   ],
   "source": [
    "import matplotlib.pyplot as plt\n",
    "import seaborn as sns\n",
    "%matplotlib inline\n",
    "sns.set(context=\"notebook\",style  = \"whitegrid\",palette = \"dark\")\n",
    "\n",
    "ax = sns.lineplot(x = 'epoch',y='loss',data = pd.DataFrame({'loss':loss_data,'epoch':np.arange(epoch)}))\n",
    "ax.set_xlabel('epoch')\n",
    "ax.set_ylabel('loss')\n",
    "plt.show()"
   ]
  },
  {
   "cell_type": "code",
   "execution_count": null,
   "id": "c3b5f603",
   "metadata": {},
   "outputs": [],
   "source": []
  }
 ],
 "metadata": {
  "kernelspec": {
   "display_name": "Python [conda env:tf1]",
   "language": "python",
   "name": "conda-env-tf1-py"
  },
  "language_info": {
   "codemirror_mode": {
    "name": "ipython",
    "version": 3
   },
   "file_extension": ".py",
   "mimetype": "text/x-python",
   "name": "python",
   "nbconvert_exporter": "python",
   "pygments_lexer": "ipython3",
   "version": "3.6.13"
  }
 },
 "nbformat": 4,
 "nbformat_minor": 5
}
